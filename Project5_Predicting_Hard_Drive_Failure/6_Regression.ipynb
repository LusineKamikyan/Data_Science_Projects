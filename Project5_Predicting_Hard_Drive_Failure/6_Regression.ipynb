{
 "cells": [
  {
   "cell_type": "markdown",
   "metadata": {},
   "source": [
    "This notebook applies regression to the hard drive data and tries to predict the number of days it takes for a hard drive to fail"
   ]
  },
  {
   "cell_type": "code",
   "execution_count": 1,
   "metadata": {},
   "outputs": [],
   "source": [
    "import pandas as pd\n",
    "import numpy as np\n",
    "import random"
   ]
  },
  {
   "cell_type": "code",
   "execution_count": 2,
   "metadata": {},
   "outputs": [],
   "source": [
    "hard_drive_df = pd.read_csv('failed_hard_drive_df.csv')"
   ]
  },
  {
   "cell_type": "code",
   "execution_count": 3,
   "metadata": {},
   "outputs": [],
   "source": [
    "hard_drive_df.date = pd.to_datetime(hard_drive_df.date)"
   ]
  },
  {
   "cell_type": "code",
   "execution_count": 4,
   "metadata": {},
   "outputs": [
    {
     "data": {
      "text/plain": [
       "Index(['date', 'serial_number', 'model', 'failure', 'smart_184_raw',\n",
       "       'smart_242_raw', 'smart_241_raw', 'smart_194_raw', 'smart_193_raw',\n",
       "       'smart_198_raw',\n",
       "       ...\n",
       "       'smart_194_from_mean_30', 'smart_193_from_mean_30',\n",
       "       'smart_198_from_mean_30', 'smart_197_from_mean_30',\n",
       "       'smart_188_from_mean_30', 'smart_187_from_mean_30',\n",
       "       'smart_5_from_mean_30', 'failure_date', 'remaining_useful_life',\n",
       "       'RUL_30'],\n",
       "      dtype='object', length=117)"
      ]
     },
     "execution_count": 4,
     "metadata": {},
     "output_type": "execute_result"
    }
   ],
   "source": [
    "hard_drive_df.columns"
   ]
  },
  {
   "cell_type": "code",
   "execution_count": 5,
   "metadata": {},
   "outputs": [],
   "source": [
    "hard_drive_df = hard_drive_df[['date','remaining_useful_life',\n",
    "       'RUL_30', 'failure', 'model',\n",
    "       'serial_number','smart_187_from_mean_10', 'smart_187_raw', 'smart_187_rw10_mean',\n",
    "       'smart_187_rw10_std', 'smart_187_vel',\n",
    "       'smart_188_from_mean_10', 'smart_188_raw', 'smart_188_rw10_mean',\n",
    "       'smart_188_rw10_std', 'smart_188_vel','smart_197_from_mean_10', 'smart_197_raw', 'smart_197_rw10_mean',\n",
    "       'smart_197_rw10_std', 'smart_197_vel',\n",
    "       'smart_198_from_mean_10', 'smart_198_raw', 'smart_198_rw10_mean',\n",
    "       'smart_198_rw10_std', 'smart_198_vel','smart_5_from_mean_10',\n",
    "       'smart_5_raw', 'smart_5_rw10_mean', 'smart_5_rw10_std','smart_5_vel']]"
   ]
  },
  {
   "cell_type": "code",
   "execution_count": 6,
   "metadata": {},
   "outputs": [
    {
     "name": "stdout",
     "output_type": "stream",
     "text": [
      "<class 'pandas.core.frame.DataFrame'>\n",
      "RangeIndex: 35709 entries, 0 to 35708\n",
      "Data columns (total 31 columns):\n",
      "date                      35709 non-null datetime64[ns]\n",
      "remaining_useful_life     35709 non-null int64\n",
      "RUL_30                    35709 non-null int64\n",
      "failure                   35709 non-null int64\n",
      "model                     35709 non-null object\n",
      "serial_number             35709 non-null object\n",
      "smart_187_from_mean_10    33199 non-null float64\n",
      "smart_187_raw             35709 non-null float64\n",
      "smart_187_rw10_mean       33199 non-null float64\n",
      "smart_187_rw10_std        33199 non-null float64\n",
      "smart_187_vel             35426 non-null float64\n",
      "smart_188_from_mean_10    33199 non-null float64\n",
      "smart_188_raw             35709 non-null float64\n",
      "smart_188_rw10_mean       33199 non-null float64\n",
      "smart_188_rw10_std        33199 non-null float64\n",
      "smart_188_vel             35426 non-null float64\n",
      "smart_197_from_mean_10    33199 non-null float64\n",
      "smart_197_raw             35709 non-null float64\n",
      "smart_197_rw10_mean       33199 non-null float64\n",
      "smart_197_rw10_std        33199 non-null float64\n",
      "smart_197_vel             35426 non-null float64\n",
      "smart_198_from_mean_10    33199 non-null float64\n",
      "smart_198_raw             35709 non-null float64\n",
      "smart_198_rw10_mean       33199 non-null float64\n",
      "smart_198_rw10_std        33199 non-null float64\n",
      "smart_198_vel             35426 non-null float64\n",
      "smart_5_from_mean_10      33199 non-null float64\n",
      "smart_5_raw               35709 non-null float64\n",
      "smart_5_rw10_mean         33199 non-null float64\n",
      "smart_5_rw10_std          33199 non-null float64\n",
      "smart_5_vel               35426 non-null float64\n",
      "dtypes: datetime64[ns](1), float64(25), int64(3), object(2)\n",
      "memory usage: 8.4+ MB\n"
     ]
    }
   ],
   "source": [
    "hard_drive_df.info(null_counts=True)"
   ]
  },
  {
   "cell_type": "markdown",
   "metadata": {},
   "source": [
    "The hard drive data contains some nan values created in the process of creating new features (some will have 10 nans per hard drive info, some 20, some 30, etc). Depending on the features used we will remove the coresponding rows containing nans"
   ]
  },
  {
   "cell_type": "code",
   "execution_count": 7,
   "metadata": {},
   "outputs": [],
   "source": [
    "hard_drive_df = hard_drive_df.dropna(how='any').reset_index()   \n",
    "hard_drive_df = hard_drive_df.drop('index', axis=1)"
   ]
  },
  {
   "cell_type": "code",
   "execution_count": 8,
   "metadata": {},
   "outputs": [
    {
     "name": "stdout",
     "output_type": "stream",
     "text": [
      "<class 'pandas.core.frame.DataFrame'>\n",
      "RangeIndex: 33199 entries, 0 to 33198\n",
      "Data columns (total 31 columns):\n",
      "date                      33199 non-null datetime64[ns]\n",
      "remaining_useful_life     33199 non-null int64\n",
      "RUL_30                    33199 non-null int64\n",
      "failure                   33199 non-null int64\n",
      "model                     33199 non-null object\n",
      "serial_number             33199 non-null object\n",
      "smart_187_from_mean_10    33199 non-null float64\n",
      "smart_187_raw             33199 non-null float64\n",
      "smart_187_rw10_mean       33199 non-null float64\n",
      "smart_187_rw10_std        33199 non-null float64\n",
      "smart_187_vel             33199 non-null float64\n",
      "smart_188_from_mean_10    33199 non-null float64\n",
      "smart_188_raw             33199 non-null float64\n",
      "smart_188_rw10_mean       33199 non-null float64\n",
      "smart_188_rw10_std        33199 non-null float64\n",
      "smart_188_vel             33199 non-null float64\n",
      "smart_197_from_mean_10    33199 non-null float64\n",
      "smart_197_raw             33199 non-null float64\n",
      "smart_197_rw10_mean       33199 non-null float64\n",
      "smart_197_rw10_std        33199 non-null float64\n",
      "smart_197_vel             33199 non-null float64\n",
      "smart_198_from_mean_10    33199 non-null float64\n",
      "smart_198_raw             33199 non-null float64\n",
      "smart_198_rw10_mean       33199 non-null float64\n",
      "smart_198_rw10_std        33199 non-null float64\n",
      "smart_198_vel             33199 non-null float64\n",
      "smart_5_from_mean_10      33199 non-null float64\n",
      "smart_5_raw               33199 non-null float64\n",
      "smart_5_rw10_mean         33199 non-null float64\n",
      "smart_5_rw10_std          33199 non-null float64\n",
      "smart_5_vel               33199 non-null float64\n",
      "dtypes: datetime64[ns](1), float64(25), int64(3), object(2)\n",
      "memory usage: 7.9+ MB\n"
     ]
    }
   ],
   "source": [
    "hard_drive_df.info()"
   ]
  },
  {
   "cell_type": "code",
   "execution_count": 9,
   "metadata": {},
   "outputs": [
    {
     "data": {
      "text/plain": [
       "277"
      ]
     },
     "execution_count": 9,
     "metadata": {},
     "output_type": "execute_result"
    }
   ],
   "source": [
    "len(hard_drive_df[hard_drive_df.failure == 1].serial_number.unique())"
   ]
  },
  {
   "cell_type": "code",
   "execution_count": 10,
   "metadata": {},
   "outputs": [
    {
     "data": {
      "text/plain": [
       "Index(['date', 'remaining_useful_life', 'RUL_30', 'failure', 'model',\n",
       "       'serial_number', 'smart_187_from_mean_10', 'smart_187_raw',\n",
       "       'smart_187_rw10_mean', 'smart_187_rw10_std', 'smart_187_vel',\n",
       "       'smart_188_from_mean_10', 'smart_188_raw', 'smart_188_rw10_mean',\n",
       "       'smart_188_rw10_std', 'smart_188_vel', 'smart_197_from_mean_10',\n",
       "       'smart_197_raw', 'smart_197_rw10_mean', 'smart_197_rw10_std',\n",
       "       'smart_197_vel', 'smart_198_from_mean_10', 'smart_198_raw',\n",
       "       'smart_198_rw10_mean', 'smart_198_rw10_std', 'smart_198_vel',\n",
       "       'smart_5_from_mean_10', 'smart_5_raw', 'smart_5_rw10_mean',\n",
       "       'smart_5_rw10_std', 'smart_5_vel'],\n",
       "      dtype='object')"
      ]
     },
     "execution_count": 10,
     "metadata": {},
     "output_type": "execute_result"
    }
   ],
   "source": [
    "hard_drive_df.columns"
   ]
  },
  {
   "cell_type": "code",
   "execution_count": 123,
   "metadata": {},
   "outputs": [
    {
     "name": "stderr",
     "output_type": "stream",
     "text": [
      "Using TensorFlow backend.\n",
      "/opt/anaconda3/envs/metis/lib/python3.7/site-packages/tensorflow/python/framework/dtypes.py:526: FutureWarning: Passing (type, 1) or '1type' as a synonym of type is deprecated; in a future version of numpy, it will be understood as (type, (1,)) / '(1,)type'.\n",
      "  _np_qint8 = np.dtype([(\"qint8\", np.int8, 1)])\n",
      "/opt/anaconda3/envs/metis/lib/python3.7/site-packages/tensorflow/python/framework/dtypes.py:527: FutureWarning: Passing (type, 1) or '1type' as a synonym of type is deprecated; in a future version of numpy, it will be understood as (type, (1,)) / '(1,)type'.\n",
      "  _np_quint8 = np.dtype([(\"quint8\", np.uint8, 1)])\n",
      "/opt/anaconda3/envs/metis/lib/python3.7/site-packages/tensorflow/python/framework/dtypes.py:528: FutureWarning: Passing (type, 1) or '1type' as a synonym of type is deprecated; in a future version of numpy, it will be understood as (type, (1,)) / '(1,)type'.\n",
      "  _np_qint16 = np.dtype([(\"qint16\", np.int16, 1)])\n",
      "/opt/anaconda3/envs/metis/lib/python3.7/site-packages/tensorflow/python/framework/dtypes.py:529: FutureWarning: Passing (type, 1) or '1type' as a synonym of type is deprecated; in a future version of numpy, it will be understood as (type, (1,)) / '(1,)type'.\n",
      "  _np_quint16 = np.dtype([(\"quint16\", np.uint16, 1)])\n",
      "/opt/anaconda3/envs/metis/lib/python3.7/site-packages/tensorflow/python/framework/dtypes.py:530: FutureWarning: Passing (type, 1) or '1type' as a synonym of type is deprecated; in a future version of numpy, it will be understood as (type, (1,)) / '(1,)type'.\n",
      "  _np_qint32 = np.dtype([(\"qint32\", np.int32, 1)])\n",
      "/opt/anaconda3/envs/metis/lib/python3.7/site-packages/tensorflow/python/framework/dtypes.py:535: FutureWarning: Passing (type, 1) or '1type' as a synonym of type is deprecated; in a future version of numpy, it will be understood as (type, (1,)) / '(1,)type'.\n",
      "  np_resource = np.dtype([(\"resource\", np.ubyte, 1)])\n"
     ]
    }
   ],
   "source": [
    "from sklearn.model_selection import train_test_split\n",
    "from sklearn.ensemble import RandomForestRegressor,GradientBoostingRegressor\n",
    "from sklearn.linear_model import LinearRegression, Ridge, Lasso, ElasticNet,SGDRegressor\n",
    "from sklearn.preprocessing import StandardScaler\n",
    "from sklearn.metrics import mean_squared_error, r2_score\n",
    "import statsmodels.api as sm\n",
    "from sklearn.neighbors import KNeighborsRegressor\n",
    "from imblearn.over_sampling import RandomOverSampler"
   ]
  },
  {
   "cell_type": "code",
   "execution_count": 29,
   "metadata": {},
   "outputs": [],
   "source": [
    "# 25 % test and 75 % train\n",
    "failed_hard_drive_list = hard_drive_df[hard_drive_df.failure == 1].serial_number.unique()"
   ]
  },
  {
   "cell_type": "code",
   "execution_count": 30,
   "metadata": {},
   "outputs": [],
   "source": [
    "# split the failed and working hard drive into 25% and 75% to use for train and test set\n",
    "train_hd_failed, test_hd_failed = train_test_split(failed_hard_drive_list,test_size=0.25, random_state=42)\n"
   ]
  },
  {
   "cell_type": "code",
   "execution_count": 60,
   "metadata": {},
   "outputs": [],
   "source": [
    "# get the train and test dataframes\n",
    "train_df = hard_drive_df[hard_drive_df.serial_number.isin(train_hd_failed)]\n",
    "test_df = hard_drive_df[hard_drive_df.serial_number.isin(test_hd_failed)]"
   ]
  },
  {
   "cell_type": "code",
   "execution_count": 104,
   "metadata": {},
   "outputs": [
    {
     "data": {
      "text/html": [
       "<div>\n",
       "<style scoped>\n",
       "    .dataframe tbody tr th:only-of-type {\n",
       "        vertical-align: middle;\n",
       "    }\n",
       "\n",
       "    .dataframe tbody tr th {\n",
       "        vertical-align: top;\n",
       "    }\n",
       "\n",
       "    .dataframe thead th {\n",
       "        text-align: right;\n",
       "    }\n",
       "</style>\n",
       "<table border=\"1\" class=\"dataframe\">\n",
       "  <thead>\n",
       "    <tr style=\"text-align: right;\">\n",
       "      <th></th>\n",
       "      <th>date</th>\n",
       "      <th>remaining_useful_life</th>\n",
       "      <th>RUL_30</th>\n",
       "      <th>failure</th>\n",
       "      <th>model</th>\n",
       "      <th>serial_number</th>\n",
       "      <th>smart_187_from_mean_10</th>\n",
       "      <th>smart_187_raw</th>\n",
       "      <th>smart_187_rw10_mean</th>\n",
       "      <th>smart_187_rw10_std</th>\n",
       "      <th>...</th>\n",
       "      <th>smart_198_from_mean_10</th>\n",
       "      <th>smart_198_raw</th>\n",
       "      <th>smart_198_rw10_mean</th>\n",
       "      <th>smart_198_rw10_std</th>\n",
       "      <th>smart_198_vel</th>\n",
       "      <th>smart_5_from_mean_10</th>\n",
       "      <th>smart_5_raw</th>\n",
       "      <th>smart_5_rw10_mean</th>\n",
       "      <th>smart_5_rw10_std</th>\n",
       "      <th>smart_5_vel</th>\n",
       "    </tr>\n",
       "  </thead>\n",
       "  <tbody>\n",
       "    <tr>\n",
       "      <th>30961</th>\n",
       "      <td>2019-04-07</td>\n",
       "      <td>107</td>\n",
       "      <td>42</td>\n",
       "      <td>0</td>\n",
       "      <td>ST4000DM000</td>\n",
       "      <td>Z305D66M</td>\n",
       "      <td>0.0</td>\n",
       "      <td>0.0</td>\n",
       "      <td>0.0</td>\n",
       "      <td>0.0</td>\n",
       "      <td>...</td>\n",
       "      <td>0.0</td>\n",
       "      <td>0.0</td>\n",
       "      <td>0.0</td>\n",
       "      <td>0.000000e+00</td>\n",
       "      <td>0.0</td>\n",
       "      <td>0.0</td>\n",
       "      <td>0.0</td>\n",
       "      <td>0.0</td>\n",
       "      <td>0.0</td>\n",
       "      <td>0.0</td>\n",
       "    </tr>\n",
       "    <tr>\n",
       "      <th>18645</th>\n",
       "      <td>2019-04-25</td>\n",
       "      <td>21</td>\n",
       "      <td>21</td>\n",
       "      <td>0</td>\n",
       "      <td>ST4000DM000</td>\n",
       "      <td>Z30468K9</td>\n",
       "      <td>0.0</td>\n",
       "      <td>0.0</td>\n",
       "      <td>0.0</td>\n",
       "      <td>0.0</td>\n",
       "      <td>...</td>\n",
       "      <td>0.0</td>\n",
       "      <td>0.0</td>\n",
       "      <td>0.0</td>\n",
       "      <td>0.000000e+00</td>\n",
       "      <td>0.0</td>\n",
       "      <td>0.0</td>\n",
       "      <td>0.0</td>\n",
       "      <td>0.0</td>\n",
       "      <td>0.0</td>\n",
       "      <td>0.0</td>\n",
       "    </tr>\n",
       "    <tr>\n",
       "      <th>8309</th>\n",
       "      <td>2019-06-12</td>\n",
       "      <td>105</td>\n",
       "      <td>42</td>\n",
       "      <td>0</td>\n",
       "      <td>ST4000DM000</td>\n",
       "      <td>S301M4YT</td>\n",
       "      <td>0.0</td>\n",
       "      <td>0.0</td>\n",
       "      <td>0.0</td>\n",
       "      <td>0.0</td>\n",
       "      <td>...</td>\n",
       "      <td>0.0</td>\n",
       "      <td>0.0</td>\n",
       "      <td>0.0</td>\n",
       "      <td>0.000000e+00</td>\n",
       "      <td>0.0</td>\n",
       "      <td>0.0</td>\n",
       "      <td>0.0</td>\n",
       "      <td>0.0</td>\n",
       "      <td>0.0</td>\n",
       "      <td>0.0</td>\n",
       "    </tr>\n",
       "    <tr>\n",
       "      <th>8236</th>\n",
       "      <td>2019-03-31</td>\n",
       "      <td>178</td>\n",
       "      <td>42</td>\n",
       "      <td>0</td>\n",
       "      <td>ST4000DM000</td>\n",
       "      <td>S301M4YT</td>\n",
       "      <td>0.0</td>\n",
       "      <td>0.0</td>\n",
       "      <td>0.0</td>\n",
       "      <td>0.0</td>\n",
       "      <td>...</td>\n",
       "      <td>0.0</td>\n",
       "      <td>0.0</td>\n",
       "      <td>0.0</td>\n",
       "      <td>0.000000e+00</td>\n",
       "      <td>0.0</td>\n",
       "      <td>0.0</td>\n",
       "      <td>0.0</td>\n",
       "      <td>0.0</td>\n",
       "      <td>0.0</td>\n",
       "      <td>0.0</td>\n",
       "    </tr>\n",
       "    <tr>\n",
       "      <th>1302</th>\n",
       "      <td>2019-03-19</td>\n",
       "      <td>15</td>\n",
       "      <td>15</td>\n",
       "      <td>0</td>\n",
       "      <td>ST4000DM000</td>\n",
       "      <td>S300Z4YH</td>\n",
       "      <td>0.0</td>\n",
       "      <td>0.0</td>\n",
       "      <td>0.0</td>\n",
       "      <td>0.0</td>\n",
       "      <td>...</td>\n",
       "      <td>0.0</td>\n",
       "      <td>0.0</td>\n",
       "      <td>0.0</td>\n",
       "      <td>0.000000e+00</td>\n",
       "      <td>0.0</td>\n",
       "      <td>0.0</td>\n",
       "      <td>0.0</td>\n",
       "      <td>0.0</td>\n",
       "      <td>0.0</td>\n",
       "      <td>0.0</td>\n",
       "    </tr>\n",
       "    <tr>\n",
       "      <th>...</th>\n",
       "      <td>...</td>\n",
       "      <td>...</td>\n",
       "      <td>...</td>\n",
       "      <td>...</td>\n",
       "      <td>...</td>\n",
       "      <td>...</td>\n",
       "      <td>...</td>\n",
       "      <td>...</td>\n",
       "      <td>...</td>\n",
       "      <td>...</td>\n",
       "      <td>...</td>\n",
       "      <td>...</td>\n",
       "      <td>...</td>\n",
       "      <td>...</td>\n",
       "      <td>...</td>\n",
       "      <td>...</td>\n",
       "      <td>...</td>\n",
       "      <td>...</td>\n",
       "      <td>...</td>\n",
       "      <td>...</td>\n",
       "      <td>...</td>\n",
       "    </tr>\n",
       "    <tr>\n",
       "      <th>33069</th>\n",
       "      <td>2019-07-20</td>\n",
       "      <td>39</td>\n",
       "      <td>42</td>\n",
       "      <td>0</td>\n",
       "      <td>ST4000DM000</td>\n",
       "      <td>Z305L695</td>\n",
       "      <td>0.0</td>\n",
       "      <td>0.0</td>\n",
       "      <td>0.0</td>\n",
       "      <td>0.0</td>\n",
       "      <td>...</td>\n",
       "      <td>0.0</td>\n",
       "      <td>0.0</td>\n",
       "      <td>0.0</td>\n",
       "      <td>0.000000e+00</td>\n",
       "      <td>0.0</td>\n",
       "      <td>0.0</td>\n",
       "      <td>0.0</td>\n",
       "      <td>0.0</td>\n",
       "      <td>0.0</td>\n",
       "      <td>0.0</td>\n",
       "    </tr>\n",
       "    <tr>\n",
       "      <th>9712</th>\n",
       "      <td>2019-03-12</td>\n",
       "      <td>136</td>\n",
       "      <td>42</td>\n",
       "      <td>0</td>\n",
       "      <td>ST4000DM000</td>\n",
       "      <td>S301PQ1F</td>\n",
       "      <td>0.0</td>\n",
       "      <td>0.0</td>\n",
       "      <td>0.0</td>\n",
       "      <td>0.0</td>\n",
       "      <td>...</td>\n",
       "      <td>0.0</td>\n",
       "      <td>0.0</td>\n",
       "      <td>0.0</td>\n",
       "      <td>0.000000e+00</td>\n",
       "      <td>0.0</td>\n",
       "      <td>0.0</td>\n",
       "      <td>0.0</td>\n",
       "      <td>0.0</td>\n",
       "      <td>0.0</td>\n",
       "      <td>0.0</td>\n",
       "    </tr>\n",
       "    <tr>\n",
       "      <th>7953</th>\n",
       "      <td>2019-05-14</td>\n",
       "      <td>98</td>\n",
       "      <td>42</td>\n",
       "      <td>0</td>\n",
       "      <td>ST4000DM000</td>\n",
       "      <td>S301KWTE</td>\n",
       "      <td>0.0</td>\n",
       "      <td>0.0</td>\n",
       "      <td>0.0</td>\n",
       "      <td>0.0</td>\n",
       "      <td>...</td>\n",
       "      <td>0.0</td>\n",
       "      <td>0.0</td>\n",
       "      <td>0.0</td>\n",
       "      <td>0.000000e+00</td>\n",
       "      <td>0.0</td>\n",
       "      <td>0.0</td>\n",
       "      <td>0.0</td>\n",
       "      <td>0.0</td>\n",
       "      <td>0.0</td>\n",
       "      <td>0.0</td>\n",
       "    </tr>\n",
       "    <tr>\n",
       "      <th>27895</th>\n",
       "      <td>2019-01-12</td>\n",
       "      <td>43</td>\n",
       "      <td>42</td>\n",
       "      <td>0</td>\n",
       "      <td>ST4000DM000</td>\n",
       "      <td>Z30513PV</td>\n",
       "      <td>0.0</td>\n",
       "      <td>8.0</td>\n",
       "      <td>8.0</td>\n",
       "      <td>0.0</td>\n",
       "      <td>...</td>\n",
       "      <td>0.0</td>\n",
       "      <td>0.0</td>\n",
       "      <td>0.0</td>\n",
       "      <td>0.000000e+00</td>\n",
       "      <td>0.0</td>\n",
       "      <td>0.0</td>\n",
       "      <td>0.0</td>\n",
       "      <td>0.0</td>\n",
       "      <td>0.0</td>\n",
       "      <td>0.0</td>\n",
       "    </tr>\n",
       "    <tr>\n",
       "      <th>18162</th>\n",
       "      <td>2019-06-11</td>\n",
       "      <td>15</td>\n",
       "      <td>15</td>\n",
       "      <td>0</td>\n",
       "      <td>ST4000DM000</td>\n",
       "      <td>Z30417KE</td>\n",
       "      <td>0.0</td>\n",
       "      <td>8.0</td>\n",
       "      <td>8.0</td>\n",
       "      <td>0.0</td>\n",
       "      <td>...</td>\n",
       "      <td>0.0</td>\n",
       "      <td>24.0</td>\n",
       "      <td>24.0</td>\n",
       "      <td>7.947286e-08</td>\n",
       "      <td>0.0</td>\n",
       "      <td>0.0</td>\n",
       "      <td>0.0</td>\n",
       "      <td>0.0</td>\n",
       "      <td>0.0</td>\n",
       "      <td>0.0</td>\n",
       "    </tr>\n",
       "  </tbody>\n",
       "</table>\n",
       "<p>8797 rows × 31 columns</p>\n",
       "</div>"
      ],
      "text/plain": [
       "            date  remaining_useful_life  RUL_30  failure        model  \\\n",
       "30961 2019-04-07                    107      42        0  ST4000DM000   \n",
       "18645 2019-04-25                     21      21        0  ST4000DM000   \n",
       "8309  2019-06-12                    105      42        0  ST4000DM000   \n",
       "8236  2019-03-31                    178      42        0  ST4000DM000   \n",
       "1302  2019-03-19                     15      15        0  ST4000DM000   \n",
       "...          ...                    ...     ...      ...          ...   \n",
       "33069 2019-07-20                     39      42        0  ST4000DM000   \n",
       "9712  2019-03-12                    136      42        0  ST4000DM000   \n",
       "7953  2019-05-14                     98      42        0  ST4000DM000   \n",
       "27895 2019-01-12                     43      42        0  ST4000DM000   \n",
       "18162 2019-06-11                     15      15        0  ST4000DM000   \n",
       "\n",
       "      serial_number  smart_187_from_mean_10  smart_187_raw  \\\n",
       "30961      Z305D66M                     0.0            0.0   \n",
       "18645      Z30468K9                     0.0            0.0   \n",
       "8309       S301M4YT                     0.0            0.0   \n",
       "8236       S301M4YT                     0.0            0.0   \n",
       "1302       S300Z4YH                     0.0            0.0   \n",
       "...             ...                     ...            ...   \n",
       "33069      Z305L695                     0.0            0.0   \n",
       "9712       S301PQ1F                     0.0            0.0   \n",
       "7953       S301KWTE                     0.0            0.0   \n",
       "27895      Z30513PV                     0.0            8.0   \n",
       "18162      Z30417KE                     0.0            8.0   \n",
       "\n",
       "       smart_187_rw10_mean  smart_187_rw10_std  ...  smart_198_from_mean_10  \\\n",
       "30961                  0.0                 0.0  ...                     0.0   \n",
       "18645                  0.0                 0.0  ...                     0.0   \n",
       "8309                   0.0                 0.0  ...                     0.0   \n",
       "8236                   0.0                 0.0  ...                     0.0   \n",
       "1302                   0.0                 0.0  ...                     0.0   \n",
       "...                    ...                 ...  ...                     ...   \n",
       "33069                  0.0                 0.0  ...                     0.0   \n",
       "9712                   0.0                 0.0  ...                     0.0   \n",
       "7953                   0.0                 0.0  ...                     0.0   \n",
       "27895                  8.0                 0.0  ...                     0.0   \n",
       "18162                  8.0                 0.0  ...                     0.0   \n",
       "\n",
       "       smart_198_raw  smart_198_rw10_mean  smart_198_rw10_std  smart_198_vel  \\\n",
       "30961            0.0                  0.0        0.000000e+00            0.0   \n",
       "18645            0.0                  0.0        0.000000e+00            0.0   \n",
       "8309             0.0                  0.0        0.000000e+00            0.0   \n",
       "8236             0.0                  0.0        0.000000e+00            0.0   \n",
       "1302             0.0                  0.0        0.000000e+00            0.0   \n",
       "...              ...                  ...                 ...            ...   \n",
       "33069            0.0                  0.0        0.000000e+00            0.0   \n",
       "9712             0.0                  0.0        0.000000e+00            0.0   \n",
       "7953             0.0                  0.0        0.000000e+00            0.0   \n",
       "27895            0.0                  0.0        0.000000e+00            0.0   \n",
       "18162           24.0                 24.0        7.947286e-08            0.0   \n",
       "\n",
       "       smart_5_from_mean_10  smart_5_raw  smart_5_rw10_mean  smart_5_rw10_std  \\\n",
       "30961                   0.0          0.0                0.0               0.0   \n",
       "18645                   0.0          0.0                0.0               0.0   \n",
       "8309                    0.0          0.0                0.0               0.0   \n",
       "8236                    0.0          0.0                0.0               0.0   \n",
       "1302                    0.0          0.0                0.0               0.0   \n",
       "...                     ...          ...                ...               ...   \n",
       "33069                   0.0          0.0                0.0               0.0   \n",
       "9712                    0.0          0.0                0.0               0.0   \n",
       "7953                    0.0          0.0                0.0               0.0   \n",
       "27895                   0.0          0.0                0.0               0.0   \n",
       "18162                   0.0          0.0                0.0               0.0   \n",
       "\n",
       "       smart_5_vel  \n",
       "30961          0.0  \n",
       "18645          0.0  \n",
       "8309           0.0  \n",
       "8236           0.0  \n",
       "1302           0.0  \n",
       "...            ...  \n",
       "33069          0.0  \n",
       "9712           0.0  \n",
       "7953           0.0  \n",
       "27895          0.0  \n",
       "18162          0.0  \n",
       "\n",
       "[8797 rows x 31 columns]"
      ]
     },
     "execution_count": 104,
     "metadata": {},
     "output_type": "execute_result"
    }
   ],
   "source": [
    "train_df.sample(frac=1)\n",
    "test_df.sample(frac=1)\n"
   ]
  },
  {
   "cell_type": "code",
   "execution_count": 65,
   "metadata": {},
   "outputs": [
    {
     "data": {
      "text/plain": [
       "59.83741884289632"
      ]
     },
     "execution_count": 65,
     "metadata": {},
     "output_type": "execute_result"
    }
   ],
   "source": [
    "train_df['remaining_useful_life'].std()"
   ]
  },
  {
   "cell_type": "code",
   "execution_count": 33,
   "metadata": {},
   "outputs": [],
   "source": [
    "# split the train into 3 groups (3 fold)\n",
    "kfold_5 = np.array_split(train_hd_failed,3)"
   ]
  },
  {
   "cell_type": "code",
   "execution_count": 71,
   "metadata": {},
   "outputs": [],
   "source": [
    "mask = ['RUL_30','smart_5_raw','smart_187_raw','smart_188_raw','smart_197_raw','smart_198_raw']\n"
   ]
  },
  {
   "cell_type": "code",
   "execution_count": 72,
   "metadata": {},
   "outputs": [
    {
     "data": {
      "text/plain": [
       "Index(['date', 'remaining_useful_life', 'RUL_30', 'failure', 'model',\n",
       "       'serial_number', 'smart_187_from_mean_10', 'smart_187_raw',\n",
       "       'smart_187_rw10_mean', 'smart_187_rw10_std', 'smart_187_vel',\n",
       "       'smart_188_from_mean_10', 'smart_188_raw', 'smart_188_rw10_mean',\n",
       "       'smart_188_rw10_std', 'smart_188_vel', 'smart_197_from_mean_10',\n",
       "       'smart_197_raw', 'smart_197_rw10_mean', 'smart_197_rw10_std',\n",
       "       'smart_197_vel', 'smart_198_from_mean_10', 'smart_198_raw',\n",
       "       'smart_198_rw10_mean', 'smart_198_rw10_std', 'smart_198_vel',\n",
       "       'smart_5_from_mean_10', 'smart_5_raw', 'smart_5_rw10_mean',\n",
       "       'smart_5_rw10_std', 'smart_5_vel'],\n",
       "      dtype='object')"
      ]
     },
     "execution_count": 72,
     "metadata": {},
     "output_type": "execute_result"
    }
   ],
   "source": [
    "train_df.columns"
   ]
  },
  {
   "cell_type": "code",
   "execution_count": 125,
   "metadata": {},
   "outputs": [
    {
     "name": "stdout",
     "output_type": "stream",
     "text": [
      "0.18237256376357872\n",
      "-2.7693110083883856\n"
     ]
    }
   ],
   "source": [
    "r2_score_list_tr = []\n",
    "r2_score_list_vl = []\n",
    "for val_group_index in range(len(kfold_5)):\n",
    "    # get serial numbers in val and train sets\n",
    "    train_s_nums = kfold_5[:val_group_index]+kfold_5[val_group_index+1:]\n",
    "    val_s_nums = kfold_5[val_group_index]\n",
    "\n",
    "    # get the data for train and val sets\n",
    "    train_data = train_df[train_df.serial_number.isin(np.concatenate(train_s_nums))][mask]\n",
    "    val_data = train_df[train_df.serial_number.isin(val_s_nums)][mask]\n",
    "\n",
    "    train_data.sample(frac=1)\n",
    "    val_data.sample(frac=1)\n",
    "    \n",
    "    # get X_tr,y_tr,X_val, y_val\n",
    "    X_tr, y_tr = train_data[mask].drop('RUL_30',axis=1), train_data['RUL_30'] \n",
    "    X_vl, y_vl = val_data[mask].drop('RUL_30',axis=1), val_data['RUL_30'] \n",
    "    \n",
    "    # scale the data\n",
    "    #scaler = StandardScaler()\n",
    "    #X_tr_scaled = scaler.fit_transform(X_tr)\n",
    "    #X_vl_scaled = scaler.transform(X_vl)\n",
    "\n",
    "    # over sample \n",
    "    ros = RandomOverSampler(random_state=1)\n",
    "    X_resampled, y_resampled = ros.fit_sample(X_tr, y_tr)\n",
    "\n",
    "    # under sample\n",
    "    #ind = y_tr[y_tr==0].sample(len(y_tr[y_tr==1])).index\n",
    "    #y_resampled = pd.concat([y_tr[ind],y_tr[y_tr==1]])\n",
    "    #X_resampled = X_tr.loc[y_resampled.index]\n",
    "    #y_resampled = y_tr\n",
    "    #X_resampled = X_tr_scaled\n",
    "    #X_vl = X_vl_scaled\n",
    "    # model\n",
    "    model = RandomForestRegressor(n_estimators=50)\n",
    "    #model = SGDRegressor()\n",
    "    model.fit(X_resampled,y_resampled)\n",
    "    #model = sm.GLM(y_resampled, sm.add_constant(X_resampled), family=sm.families.Poisson())\n",
    "    #poisson_training_results = model.fit()\n",
    "\n",
    "    #train_predicted = (model.predict_proba(X_resampled)[:, 1] >= threshold)\n",
    "    train_predicted = model.predict(X_resampled)\n",
    "    #val_predicted = (model.predict_proba(X_vl)[:, 1] >= threshold)\n",
    "    val_predicted = model.predict(X_vl)\n",
    "    \n",
    "    \n",
    "    r2_score_list_tr.append(r2_score(y_resampled, train_predicted))\n",
    "    \n",
    "    r2_score_list_vl.append(r2_score(y_vl, val_predicted))\n",
    "\n",
    "r2_tr_mean  = sum(r2_score_list_tr)/len(r2_score_list_tr)\n",
    "r2_vl_mean = sum(r2_score_list_vl)/len(r2_score_list_vl)\n",
    "print(r2_tr_mean)\n",
    "print(r2_vl_mean)\n"
   ]
  },
  {
   "cell_type": "code",
   "execution_count": 126,
   "metadata": {},
   "outputs": [],
   "source": [
    "X_ts, y_ts = test_df[mask].drop('RUL_30',axis=1), test_df['RUL_30'] "
   ]
  },
  {
   "cell_type": "code",
   "execution_count": 127,
   "metadata": {},
   "outputs": [],
   "source": [
    "test_pred = model.predict(X_ts)"
   ]
  },
  {
   "cell_type": "code",
   "execution_count": 128,
   "metadata": {},
   "outputs": [
    {
     "data": {
      "text/plain": [
       "-2.8794527614932925"
      ]
     },
     "execution_count": 128,
     "metadata": {},
     "output_type": "execute_result"
    }
   ],
   "source": [
    "r2_score(y_ts,test_pred)"
   ]
  },
  {
   "cell_type": "markdown",
   "metadata": {},
   "source": [
    "We get negative r2 values, whcih mean the models are doing really poorly. One of the reasons could be that the features do not change much overtime, do not degrade gradually, so it's hard to see the difference between 100 remaining useful life and 30. "
   ]
  },
  {
   "cell_type": "code",
   "execution_count": null,
   "metadata": {},
   "outputs": [],
   "source": []
  }
 ],
 "metadata": {
  "kernelspec": {
   "display_name": "Python 3",
   "language": "python",
   "name": "python3"
  },
  "language_info": {
   "codemirror_mode": {
    "name": "ipython",
    "version": 3
   },
   "file_extension": ".py",
   "mimetype": "text/x-python",
   "name": "python",
   "nbconvert_exporter": "python",
   "pygments_lexer": "ipython3",
   "version": "3.7.4"
  }
 },
 "nbformat": 4,
 "nbformat_minor": 2
}
